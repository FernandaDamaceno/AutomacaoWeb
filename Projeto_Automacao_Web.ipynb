{
 "cells": [
  {
   "cell_type": "markdown",
   "metadata": {},
   "source": [
    "### Importar bibliotecas"
   ]
  },
  {
   "cell_type": "code",
   "execution_count": null,
   "metadata": {},
   "outputs": [],
   "source": [
    "from selenium import webdriver\n",
    "from selenium.webdriver.chrome.service import Service\n",
    "from webdriver_manager.chrome import ChromeDriverManager\n",
    "from selenium.webdriver.common.keys import Keys\n",
    "from selenium.webdriver.common.by import By\n",
    "import pandas as pd\n",
    "import time"
   ]
  },
  {
   "cell_type": "markdown",
   "metadata": {},
   "source": [
    "### Inicializar o navegador"
   ]
  },
  {
   "cell_type": "code",
   "execution_count": null,
   "metadata": {},
   "outputs": [],
   "source": [
    "servico = Service(ChromeDriverManager().install())\n",
    "nav = webdriver.Chrome(service=servico)"
   ]
  },
  {
   "cell_type": "markdown",
   "metadata": {},
   "source": [
    "### Importar/ visualizar a base de dados"
   ]
  },
  {
   "cell_type": "code",
   "execution_count": null,
   "metadata": {},
   "outputs": [],
   "source": [
    "tabela_produtos = pd.read_excel(\"buscas.xlsx\")\n",
    "display(tabela_produtos)"
   ]
  },
  {
   "cell_type": "markdown",
   "metadata": {},
   "source": [
    "### Definir as funções de busca do Google Shopping e do Buscapé"
   ]
  },
  {
   "cell_type": "code",
   "execution_count": null,
   "metadata": {},
   "outputs": [],
   "source": [
    "# função para analisar se o nome do produto não tem nenhum termo banido\n",
    "def verificar_tem_termos_banidos(lista_termos_banidos, nome):\n",
    "    tem_termos_banidos = False\n",
    "    for palavra in lista_termos_banidos:\n",
    "        if palavra in nome:\n",
    "            tem_termos_banidos = True\n",
    "    return tem_termos_banidos\n",
    "\n",
    "# função para analisar se o nome do produto tem todos os termos do produto\n",
    "def verificar_tem_todos_termos_produto(lista_termos_produto, nome):\n",
    "    tem_todos_termos_produto = True\n",
    "    for palavra in lista_termos_produto:\n",
    "        if palavra not in nome:\n",
    "            tem_todos_termos_produto = False\n",
    "    return tem_todos_termos_produto\n",
    "\n",
    "# função de busca do Google Shopping\n",
    "def busca_google_shopping(nav, produto, termos_banidos, preco_minimo, preco_maximo):\n",
    "    #tratar os valores\n",
    "    produto = produto.lower()\n",
    "    termos_banidos = termos_banidos.lower()\n",
    "    lista_termos_banidos = termos_banidos.split(\" \")\n",
    "    lista_termos_produto = produto.split(\" \")\n",
    "    lista_ofertas = []\n",
    "    preco_minimo = float(preco_minimo)\n",
    "    preco_maximo = float(preco_maximo) \n",
    "\n",
    "    # buscar pelo produto no Google\n",
    "    nav.get(\"https://www.google.com.br/\")\n",
    "    nav.find_element(By.CLASS_NAME,'gLFyf').send_keys(produto, Keys.ENTER)\n",
    "\n",
    "    # entrar na aba Shopping\n",
    "    elementos = nav.find_elements(By.CLASS_NAME, 'hdtb-mitem')\n",
    "    for item in elementos:\n",
    "        if \"Shopping\" in item.text:\n",
    "            item.click()\n",
    "            break\n",
    "\n",
    "    # pegar as informações (nome, preco, link) do produto na aba Shopping\n",
    "    lista_resultados = nav.find_elements(By.CLASS_NAME, 'i0X6df')\n",
    "\n",
    "    for resultado in lista_resultados: \n",
    "        nome = resultado.find_element(By.CLASS_NAME, 'tAxDx').text\n",
    "        nome = nome.lower()\n",
    "        \n",
    "        # analisar se o nome do produto não tem nenhum termo banido\n",
    "        tem_termos_banidos = verificar_tem_termos_banidos(lista_termos_banidos, nome)\n",
    "\n",
    "        # analisar se o nome do produto tem todos os termos do produto\n",
    "        tem_todos_termos_produto = verificar_tem_todos_termos_produto(lista_termos_produto, nome)\n",
    "\n",
    "        # selecionar só os elementos que tem_termos_banidos = False e ao mesmo tempo tem_termos_produtos = True\n",
    "        if not tem_termos_banidos and tem_todos_termos_produto:\n",
    "            preco = resultado.find_element(By.CLASS_NAME, 'a8Pemb').text\n",
    "            preco = preco.replace(\"R$\", \"\").replace(\" \", \"\").replace(\".\",\"\").replace(\",\",\".\")\n",
    "            preco = float(preco)\n",
    "\n",
    "            # verificar se o preço do produto está entre o preço mínimo e o preço máximo\n",
    "            if preco_minimo <= preco <= preco_maximo:\n",
    "                elemento_referencia = resultado.find_element(By.CLASS_NAME, 'bONr3b')\n",
    "                elemento_pai = elemento_referencia.find_element(By.XPATH, '..')\n",
    "                link = elemento_pai.get_attribute ('href')\n",
    "                lista_ofertas.append((nome, preco, link))\n",
    "                \n",
    "    # retornar a lista de ofertas do Google Shopping\n",
    "    return lista_ofertas\n",
    "\n",
    "# função de busca do Buscapé\n",
    "def busca_buscape(nav, produto, termos_banidos, preco_minimo, preco_maximo):\n",
    "    # tratar os valores\n",
    "    produto = produto.lower()\n",
    "    termos_banidos = termos_banidos.lower()\n",
    "    lista_termos_banidos = termos_banidos.split(\" \")\n",
    "    lista_termos_produto = produto.split(\" \")\n",
    "    lista_ofertas = []\n",
    "    preco_minimo = float(preco_minimo)\n",
    "    preco_maximo = float(preco_maximo) \n",
    "    \n",
    "    # buscar pelo produto no Buscapé\n",
    "    nav.get(\"https://www.buscape.com.br/\")\n",
    "    nav.find_element(By.XPATH,'//*[@id=\"new-header\"]/div[1]/div/div/div[3]/div/div/div[2]/div/div[1]/input').send_keys(produto, Keys.ENTER)\n",
    "\n",
    "    # pegar as informações (nome, preco, link) do produto no Buscapé\n",
    "    while len(nav.find_elements(By.CLASS_NAME, 'Select_Select__1S7HV')) < 1:\n",
    "        time.sleep(1)\n",
    "    lista_resultados = nav.find_elements(By.CLASS_NAME, 'SearchCard_ProductCard_Inner__7JhKb')\n",
    "    \n",
    "    for resultado in lista_resultados:\n",
    "        preco = resultado.find_element(By.CLASS_NAME, 'Text_MobileHeadingS__Zxam2').text\n",
    "        nome = resultado.find_element(By.CLASS_NAME, 'SearchCard_ProductCard_Name__ZaO5o').text\n",
    "        nome = nome.lower()\n",
    "        link = resultado.get_attribute(\"href\")\n",
    "\n",
    "        # analisar se o nome do produto não tem nenhum termo banido\n",
    "        tem_termos_banidos = verificar_tem_termos_banidos(lista_termos_banidos, nome)\n",
    "\n",
    "        # analisar se o nome do produto tem todos os termos do produto\n",
    "        tem_todos_termos_produto = verificar_tem_todos_termos_produto(lista_termos_produto, nome)\n",
    "    \n",
    "        #selecionar só os elementos que tem_termos_banidos = False e ao mesmo tempo tem_termos_produtos = True\n",
    "        if not tem_termos_banidos and tem_todos_termos_produto:\n",
    "            preco = preco.replace(\"R$\", \"\").replace(\" \", \"\").replace(\".\",\"\").replace(\",\",\".\")\n",
    "            preco = float(preco)\n",
    "            \n",
    "             # verificar se o preço do produto está entre o preço mínimo e o preço máximo\n",
    "            if preco_minimo <= preco <= preco_maximo:\n",
    "                lista_ofertas.append((nome, preco, link))\n",
    "            \n",
    "    # retornar a lista de ofertas do Buscapé\n",
    "    return lista_ofertas"
   ]
  },
  {
   "cell_type": "markdown",
   "metadata": {},
   "source": [
    "### Salvar as ofertas desejadas em um dataframe"
   ]
  },
  {
   "cell_type": "code",
   "execution_count": null,
   "metadata": {},
   "outputs": [],
   "source": [
    "tabela_oferta = pd.DataFrame()\n",
    "\n",
    "for linha in tabela_produtos.index:\n",
    "    # pesquisar pelo produto\n",
    "    produto = tabela_produtos.loc[linha, \"Nome\"]\n",
    "    termos_banidos = tabela_produtos.loc[linha, \"Termos banidos\"]\n",
    "    preco_minimo = tabela_produtos.loc[linha, \"Preço mínimo\"]\n",
    "    preco_maximo = tabela_produtos.loc[linha, \"Preço máximo\"]\n",
    "\n",
    "    # executar as funções do Google Shopping e do Buscapé\n",
    "    lista_ofertas_google_shopping = busca_google_shopping(nav, produto, termos_banidos, preco_minimo, preco_maximo)\n",
    "    if lista_ofertas_google_shopping:\n",
    "        tabela_google_shoppping = pd.DataFrame(lista_ofertas_google_shopping, columns=['produto', 'preço', 'link'])\n",
    "        tabela_oferta = pd.concat([tabela_oferta, tabela_google_shoppping])\n",
    "    else:\n",
    "        tabela_google_shoppping = None\n",
    "        \n",
    "    lista_ofertas_buscapé = busca_buscape(nav, produto, termos_banidos, preco_minimo, preco_maximo)\n",
    "    if lista_ofertas_buscapé:\n",
    "        tabela_buscape =pd.DataFrame(lista_ofertas_buscapé, columns=['produto', 'preço', 'link'])\n",
    "        tabela_oferta = pd.concat([tabela_oferta, tabela_buscape])\n",
    "    else:\n",
    "        tabela_buscape = None\n",
    "        \n",
    "display(tabela_oferta)  "
   ]
  },
  {
   "cell_type": "markdown",
   "metadata": {},
   "source": [
    "### Exportar para o excel o resultado do dataframe"
   ]
  },
  {
   "cell_type": "code",
   "execution_count": null,
   "metadata": {},
   "outputs": [],
   "source": [
    "tabela_oferta = tabela_oferta.reset_index(drop=True)\n",
    "tabela_oferta.to_excel(\"Ofertas.xlsx\", index=False)"
   ]
  },
  {
   "cell_type": "markdown",
   "metadata": {},
   "source": [
    "### Enviar por e-mail o resultado do dataframe"
   ]
  },
  {
   "cell_type": "code",
   "execution_count": null,
   "metadata": {},
   "outputs": [],
   "source": [
    "# enviar por e-mail o resultado da tabela\n",
    "import win32com.client as win32\n",
    "\n",
    "# verificar se existe alguma oferta dentro da tabela de ofertas\n",
    "if len(tabela_oferta.index) > 0:\n",
    "    # enviar email\n",
    "    outlook = win32.Dispatch('outlook.application')\n",
    "    mail = outlook.CreateItem(0)\n",
    "    mail.To = 'inserir o e-mail do destinatário'\n",
    "    mail.Subject = 'Produto(s) Encontrado(s) na faixa de preço desejada'\n",
    "    mail.HTMLBody = f\"\"\"\n",
    "    <p>Prezados,</p>\n",
    "    <p>Encontramos alguns produtos em oferta dentro da faixa de preço desejada. Segue tabela com detalhes</p>\n",
    "    {tabela_oferta.to_html(index=False)}\n",
    "    <p>Qualquer dúvida estou à disposição</p>\n",
    "    <p>Att.,</p>\n",
    "    \"\"\"\n",
    "    \n",
    "    mail.Send()\n",
    "\n",
    "nav.quit()  "
   ]
  }
 ],
 "metadata": {
  "kernelspec": {
   "display_name": "Python 3 (ipykernel)",
   "language": "python",
   "name": "python3"
  },
  "language_info": {
   "codemirror_mode": {
    "name": "ipython",
    "version": 3
   },
   "file_extension": ".py",
   "mimetype": "text/x-python",
   "name": "python",
   "nbconvert_exporter": "python",
   "pygments_lexer": "ipython3",
   "version": "3.9.13"
  }
 },
 "nbformat": 4,
 "nbformat_minor": 4
}
